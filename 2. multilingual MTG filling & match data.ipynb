{
 "cells": [
  {
   "cell_type": "code",
   "execution_count": null,
   "id": "6966fcd8",
   "metadata": {},
   "outputs": [],
   "source": [
    "import pandas as pd\n",
    "import time\n",
    "from utils.fillData import getFirstToken, searchByToken, get_uuid_from_nan_values"
   ]
  },
  {
   "cell_type": "code",
   "execution_count": null,
   "id": "49beca65",
   "metadata": {},
   "outputs": [],
   "source": [
    "lang_labels = ['Spanish','Portuguese (Brazil)', 'Korean', 'Japanese', 'French', 'German', \n",
    "         'Chinese Traditional', 'Chinese Simplified']"
   ]
  },
  {
   "cell_type": "code",
   "execution_count": null,
   "id": "a7843ef5",
   "metadata": {
    "scrolled": true
   },
   "outputs": [],
   "source": [
    "cards = pd.read_csv(\"csv/cards.csv\")\n",
    "translate = pd.read_csv(\"csv/foreign_data.csv\")"
   ]
  },
  {
   "cell_type": "code",
   "execution_count": null,
   "id": "ee021054",
   "metadata": {
    "scrolled": true
   },
   "outputs": [],
   "source": [
    "uuid = list(cards['uuid'])\n",
    "uuid_first_token = [getFirstToken(x, '-') for x in uuid]\n",
    "print(uuid[0])\n",
    "print(uuid_first_token[0])"
   ]
  },
  {
   "cell_type": "markdown",
   "id": "b442683a",
   "metadata": {},
   "source": [
    "# Main Goal:\n",
    "\n",
    "Fill text fields without data (nan) with csv data in english and find the match between cards according to their language and their uuid"
   ]
  },
  {
   "cell_type": "code",
   "execution_count": null,
   "id": "3957f1ac",
   "metadata": {},
   "outputs": [],
   "source": [
    "def match_Data(df_lang, attribute, list_ids, uuids): \n",
    "    start = time.time()\n",
    "    for i in range(len(list_ids)):\n",
    "        index_esp = list_ids[i]\n",
    "        first_token = uuids[i]\n",
    "        index_eng = searchByToken(uuid_first_token, first_token)[0]\n",
    "        _card = cards.iloc[index_eng]\n",
    "        df_lang[attribute].iloc[index_esp] = _card[attribute]\n",
    "    end = time.time()\n",
    "    print ('time:', end - start)"
   ]
  },
  {
   "cell_type": "code",
   "execution_count": null,
   "id": "ecd74b11",
   "metadata": {
    "scrolled": true
   },
   "outputs": [],
   "source": [
    "def invoke_match_Data(df_lang):\n",
    "    for attribute in ['type','text', 'flavorText']:\n",
    "        print('MATCHING ', attribute)\n",
    "        LIST_ATTR = list(df_lang[attribute])\n",
    "        ids, uuids = get_uuid_from_nan_values(LIST_ATTR, df_lang)\n",
    "        match_Data(df_lang, attribute, ids, uuids)"
   ]
  },
  {
   "cell_type": "code",
   "execution_count": null,
   "id": "4429ee8f",
   "metadata": {},
   "outputs": [],
   "source": [
    "def nullableTest(df, attribute):\n",
    "    e = list(df[attribute])[0:100]\n",
    "    for i in range(len(e)):\n",
    "        if (type(e[i]) == float):\n",
    "            _test = df.iloc[i]\n",
    "            r = searchByToken(uuid_first_token, getFirstToken(_test['uuid'],'-'))[0]\n",
    "            _card = cards.iloc[r]\n",
    "            print(i, e[i], _test['uuid'],' english->' ,_card['id'], _card[attribute], _card['uuid'])"
   ]
  },
  {
   "cell_type": "code",
   "execution_count": null,
   "id": "c647fa38",
   "metadata": {},
   "outputs": [],
   "source": [
    "def df_tester(df_lang):\n",
    "    for attribute in ['type','text', 'flavorText']:\n",
    "        print('Testing: ', attribute)\n",
    "        print('\\nid_lang, attribute, uuid_lang, || english_id, english_atribute, english_uuid')\n",
    "        nullableTest(df_lang, attribute)"
   ]
  },
  {
   "cell_type": "markdown",
   "id": "2fde19f7",
   "metadata": {},
   "source": [
    "## Match databases: \n",
    "\n",
    "### ADD INDEX CARDS(ORIGINAL) TO INDEX IN LANGUAGE\n",
    "\n",
    "### Why match indexes?\n",
    "\n",
    "If you are looking for a card with a language other than English, you should be aware that the dataset of the chosen language does not contain all the data, so you should link to the original dataset in English."
   ]
  },
  {
   "cell_type": "code",
   "execution_count": null,
   "id": "3e7b149d",
   "metadata": {},
   "outputs": [],
   "source": [
    "def tokenize(series):\n",
    "    start = time.time()\n",
    "    tokens = list(series)\n",
    "    data = [getFirstToken(x, '-') for x in tokens]\n",
    "    \n",
    "    end = time.time()\n",
    "    print('tokenize time: ',end -start)\n",
    "    return data\n",
    "\n",
    "def matchingIndexByUUID(tokenized_list):\n",
    "    start = time.time()\n",
    "    data = [searchByToken(uuid_first_token, x)[0] for x in tokenized_list]\n",
    "    end = time.time()\n",
    "    print('matchingIndexByUUID time: ', end - start)\n",
    "    return data"
   ]
  },
  {
   "cell_type": "markdown",
   "id": "9ae1cdf8",
   "metadata": {},
   "source": [
    "### Export to csv files"
   ]
  },
  {
   "cell_type": "code",
   "execution_count": null,
   "id": "e34f5768",
   "metadata": {},
   "outputs": [],
   "source": [
    "def export_csv(df_lang, df_lang_index):\n",
    "    df_lang.to_csv('./output/%s_cards.csv'%(lang_label),index = False, header=True)\n",
    "    df_lang_index.to_csv('./output/%s_indexs_matches.csv'%(lang_label),index = False, header=True)\n",
    "    print('data exported to csv!')"
   ]
  },
  {
   "cell_type": "markdown",
   "id": "05809fdc",
   "metadata": {},
   "source": [
    "## RUN!\n",
    "\n",
    "### Filling and Matching all langs data!"
   ]
  },
  {
   "cell_type": "code",
   "execution_count": null,
   "id": "32ffc6f6",
   "metadata": {},
   "outputs": [],
   "source": [
    "for lang_label in lang_labels:\n",
    "    print('\\nMatching in ', lang_label)\n",
    "    _lang = translate[translate['language']==lang_label]\n",
    "    invoke_match_Data(_lang)\n",
    "    uuid_lang = _lang['uuid']\n",
    "    UUID_LANG_TOKEN = tokenize(uuid_lang)\n",
    "    INDEX = matchingIndexByUUID(UUID_LANG_TOKEN)\n",
    "    df_INDEX = pd.DataFrame(INDEX, columns = ['match'])\n",
    "    export_csv(_lang, df_INDEX)"
   ]
  },
  {
   "cell_type": "markdown",
   "id": "52fadff7",
   "metadata": {},
   "source": [
    "## Search mode\n",
    "\n",
    "Find the index of the card (or possible cards) according to the input parameter. For each index, the basic values in the language will be obtained by consulting the corresponding dataset. For the other values, you must examine the csv: *_indexs_matches.csv, and with the index search in the original dataset."
   ]
  }
 ],
 "metadata": {
  "kernelspec": {
   "display_name": "Python 3",
   "language": "python",
   "name": "python3"
  },
  "language_info": {
   "codemirror_mode": {
    "name": "ipython",
    "version": 3
   },
   "file_extension": ".py",
   "mimetype": "text/x-python",
   "name": "python",
   "nbconvert_exporter": "python",
   "pygments_lexer": "ipython3",
   "version": "3.8.8"
  }
 },
 "nbformat": 4,
 "nbformat_minor": 5
}
